{
  "cells": [
    {
      "metadata": {},
      "cell_type": "markdown",
      "source": "# Object-Oriented Programming  (OOP)\n- class and object (data type and variable)\n- encapsulation\n- inheritance (code reuse)\n- polymorphism (code generality)"
    },
    {
      "metadata": {
        "trusted": true
      },
      "cell_type": "code",
      "source": "class Person:\n    ''' constructor / initialiser '''\n    def __init__(self, pid, name, weight, height): # method - function inside a class\n        self.id = pid\n        self.name = name\n        self.weight = weight\n        self.height = height\n    \n    ''' accessor // getty '''\n    def get_name(self):\n        return self.name\n    \n    def get_weight(self):\n        return self.weight\n    \n    def get_height(self):\n        return self.height\n    \n    ''' modifier / mutator / setty '''\n    def set_name(self, new_name):\n        self.name = new_name\n        \n    def set_weight(self, new_weight):\n        self.weight = new_weight\n    \n    def set_height(self, new_height):\n        self.height = new_height\n        \n    def eat(self, food):\n        self.weight += food\n        \n    def sleep(self, length):\n        self.height += length\n        \n    def shit(self, food):\n        self.weight -= food\n        \n    def diarrhoea(self, food):\n        self.weight -= food * 2\n    \n    ''' utility / helper '''\n    def display(self):\n        print(\"Name:\", self.name)\n        print(\"Weight:\", self.weight)\n        print(\"Height:\", self.height)\n    \n    def bmi(self):\n        return self.weight / (self.height ** 2)\n    \n# main\n#p1 = Person(\"S1234567A\", \"Mr Lis\", 57, 1.76) # objecct - p1\n#p2 = Person(\"S8765432Z\", \"Ms Li\", 50, 1.6)\n#p1.bmi()",
      "execution_count": 31,
      "outputs": []
    },
    {
      "metadata": {
        "trusted": true
      },
      "cell_type": "code",
      "source": "print(p1.get_name())\nprint(p1.get_weight())\nprint(p1.get_height())\nprint(p2.get_name())\nprint(p2.get_weight())\nprint(p2.get_height())",
      "execution_count": 20,
      "outputs": [
        {
          "output_type": "stream",
          "text": "Mr Lis\n57\n1.76\nMrs Lis\n50\n1.6\n",
          "name": "stdout"
        }
      ]
    },
    {
      "metadata": {
        "trusted": true
      },
      "cell_type": "code",
      "source": "p1.name # illegal in most OOP languages except Python (Mr Guido: \"We are consenting adults.\")",
      "execution_count": 6,
      "outputs": [
        {
          "output_type": "execute_result",
          "execution_count": 6,
          "data": {
            "text/plain": "'Mr Lis'"
          },
          "metadata": {}
        }
      ]
    },
    {
      "metadata": {
        "trusted": true
      },
      "cell_type": "code",
      "source": "class Student(Person):\n    ''' constructor '''\n    def __init__(self, pid, name, weight, height, classid):\n        super().__init__(pid, name, weight, height)\n        self.classid = classid\n        \n    ''' accessor '''\n    def get_class(self):\n        return self.classid\n    \n    ''' modifier '''\n    def set_class(self, new_class):\n        self.classid = new_class\n        \n    def set_name(self, house):\n        self.name = house + self.name\n    \n    ''' helper / support '''\n    def display(self):\n        super().display()\n        print(\"Class:\", self.classid)\n    \n# main\nstudent1 = Student(\"S1234567A\", \"Mr Lis\", 57, 1.76, \"19Y5C34\")\n#print(student1.get_name()) # inherited method\n#print(student1.get_class()) # own class method\n#student1.set_class(\"20Y6C34\")\n#print(student1.get_class())\n#student1.set_name(\"Bennu \") # overrided method\n#print(student1.get_name())\nstudent1.display()",
      "execution_count": 33,
      "outputs": [
        {
          "output_type": "stream",
          "text": "Name: Mr Lis\nWeight: 57\nHeight: 1.76\nClass: 19Y5C34\n",
          "name": "stdout"
        }
      ]
    },
    {
      "metadata": {
        "trusted": true
      },
      "cell_type": "code",
      "source": "class Staff(Person):\n    ''' constructor '''\n    def __init__(self, pid, name, weight, height, department):\n        super().__init__(pid, name, weight, height)\n        self.department = department\n        \n    ''' accessor '''\n    def get_department(self):\n        return self.department\n    \n    ''' modifier '''\n    def set_department(self, new_class):\n        self.department = new_department\n    \n    ''' helper / support '''\n    def display(self):\n        super().display()\n        print(\"Department:\", self.department)\n    \n# main\nstaff1 = Staff(\"S1234567A\", \"Mr Lis\", 57, 1.76, \"Wank\")\nstaff1.display()",
      "execution_count": 34,
      "outputs": [
        {
          "output_type": "stream",
          "text": "Name: Mr Lis\nWeight: 57\nHeight: 1.76\nDepartment: Wank\n",
          "name": "stdout"
        }
      ]
    },
    {
      "metadata": {
        "trusted": true
      },
      "cell_type": "code",
      "source": "school = []\nschool.append(student1)\nschool.append(staff1)\nschool",
      "execution_count": 35,
      "outputs": [
        {
          "output_type": "execute_result",
          "execution_count": 35,
          "data": {
            "text/plain": "[<__main__.Student at 0x7f8ed206e6a0>, <__main__.Staff at 0x7f8ed206e198>]"
          },
          "metadata": {}
        }
      ]
    },
    {
      "metadata": {
        "trusted": true
      },
      "cell_type": "code",
      "source": "for user in school:\n    user.display()",
      "execution_count": 36,
      "outputs": [
        {
          "output_type": "stream",
          "text": "Name: Mr Lis\nWeight: 57\nHeight: 1.76\nClass: 19Y5C34\nName: Mr Lis\nWeight: 57\nHeight: 1.76\nDepartment: Wank\n",
          "name": "stdout"
        }
      ]
    },
    {
      "metadata": {
        "trusted": true
      },
      "cell_type": "code",
      "source": "",
      "execution_count": null,
      "outputs": []
    }
  ],
  "metadata": {
    "kernelspec": {
      "name": "python36",
      "display_name": "Python 3.6",
      "language": "python"
    },
    "language_info": {
      "mimetype": "text/x-python",
      "nbconvert_exporter": "python",
      "name": "python",
      "pygments_lexer": "ipython3",
      "version": "3.6.6",
      "file_extension": ".py",
      "codemirror_mode": {
        "version": 3,
        "name": "ipython"
      }
    }
  },
  "nbformat": 4,
  "nbformat_minor": 2
}