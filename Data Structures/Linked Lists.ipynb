{
  "cells": [
    {
      "metadata": {},
      "cell_type": "markdown",
      "source": "# Linked Lists"
    },
    {
      "metadata": {
        "trusted": true
      },
      "cell_type": "code",
      "source": "class Node:\n    \n    def __init__(self, data=0):\n        self.data = data\n        self.link = None # or self.next\n        \n    def get_data(self):\n        return self.data\n       \n    def get_link(self):\n        return self.link\n    \n    def set_data(self, new_data):\n        self.data = new_data\n    \n    def set_link(self, new_link):\n        self.link = new_link\n     \n    \nclass LinkedList:\n    \n    def __init__(self):\n        self.head = None\n        \n    def add(self, item):\n        temp = Node(item)\n        temp.set_link(self.head)\n        self.head = temp\n        \n    def update(self, target, new_value):\n        curr = self.head\n        found = False\n        while curr != None and not found:\n            if curr.get_data() == target:\n                found = True\n                curr.set_data(new_value) # curr.data = new_value\n            else:\n                curr = curr.get_link() # curr = curr.link\n        if found : # fi found == True\n            print(\"Updated\")\n        else:\n            print(\"Error updating\")\n    \n    def size(self):\n        curr = self.head\n        count = 0\n        while curr != None:\n            count += 1\n            curr = curr.get_link() # curr = curr.link\n        return count\n    \n    def search(self, target):\n        curr = self.head\n        found = False\n        while curr != None and not found:\n            if curr.get_data() == target: # curr.data == target\n                found = True\n            else:\n                curr = curr.get_link() # curr = curr.link\n        return found\n    \n    def delete(self, target):\n        prev = self.head\n        curr = self.head\n        found = False\n        while curr != None and not found:\n            if curr.get_data() == target:\n                found = True\n                prev.set_link(curr.get_link()) # prev.link = curr.link\n            else:\n                prev = curr\n                curr = curr.get_link() # curr = curr.link\n        if found : # if found == True\n            print(\"Deleted\")\n        else:\n            print(\"Error deleting\")\n                \n    def display(self):\n        curr = self.head\n        while curr != None:\n            print(curr.data, end=' ')\n            curr = curr.get_link()\n            \n    \n# main\nlinkedlist = LinkedList()\nlinkedlist.add(34)\n#print(linkedlist.head.data)\n#print(linkedlist.head.link)\nlinkedlist.add(5)\nlinkedlist.add(99)\n#linkedlist.size()\nprint(linkedlist.search(34))\nprint(linkedlist.search(35))\nlinkedlist.display()\nlinkedlist.update(34, 88)\nlinkedlist.update(35, 88)\nlinkedlist.display()\nlinkedlist.delete(5)\nlinkedlist.delete(10)\nlinkedlist.display()\n#print(linkedlist.head.data)\n#print(linkedlist.head.link)\n#print(linkedlist.head.link.data)\n#print(linkedlist.head.link.link)\n#print(linkedlist.head.link.link.data)\n#print(linkedlist.head.link.link.link)",
      "execution_count": 2,
      "outputs": [
        {
          "output_type": "stream",
          "text": "True\nFalse\n99 5 34 Updated\nError updating\n99 5 88 Deleted\nError deleting\n99 88 ",
          "name": "stdout"
        }
      ]
    },
    {
      "metadata": {
        "trusted": true
      },
      "cell_type": "code",
      "source": "node1.data",
      "execution_count": 4,
      "outputs": [
        {
          "output_type": "execute_result",
          "execution_count": 4,
          "data": {
            "text/plain": "0"
          },
          "metadata": {}
        }
      ]
    },
    {
      "metadata": {
        "trusted": true
      },
      "cell_type": "code",
      "source": "node2.data",
      "execution_count": 5,
      "outputs": [
        {
          "output_type": "execute_result",
          "execution_count": 5,
          "data": {
            "text/plain": "34"
          },
          "metadata": {}
        }
      ]
    }
  ],
  "metadata": {
    "kernelspec": {
      "name": "python36",
      "display_name": "Python 3.6",
      "language": "python"
    },
    "language_info": {
      "mimetype": "text/x-python",
      "nbconvert_exporter": "python",
      "name": "python",
      "pygments_lexer": "ipython3",
      "version": "3.6.6",
      "file_extension": ".py",
      "codemirror_mode": {
        "version": 3,
        "name": "ipython"
      }
    }
  },
  "nbformat": 4,
  "nbformat_minor": 2
}