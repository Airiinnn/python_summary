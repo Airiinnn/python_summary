{
  "cells": [
    {
      "metadata": {},
      "cell_type": "markdown",
      "source": "# Abstract Base Classes Summary\n- Stack (Array & Linked List)\n- Queue (Array & Linked List)\n- Binary Search Tree"
    },
    {
      "metadata": {
        "trusted": true
      },
      "cell_type": "code",
      "source": "# Linked List\n\nclass Node:\n    \n    def __init__(self, data=0):\n        self.data = data\n        self.link = None\n        \n    def get_data(self):\n        return self.data\n    \n    def get_link(self):\n        return self.link\n    \n    def set_data(self, new_data):\n        self.data = new_data\n        \n    def set_link(self, new_link):\n        self.link = new_link\n        \nclass LinkedList:\n    \n    def __init__(self):\n        self.head = None\n        \n    def add(self, item):\n        node = Node(item)\n        node.set_link(self.head)\n        self.head = node\n        \n    def update(self, target, new_value):\n        curr = self.head\n        found = False\n        while curr != None and not found:\n            if curr.get_data() == target:\n                curr.set_data(new_value)\n                found = True\n            else:\n                curr = curr.get_link()\n        if found:\n            print(\"Updated\")\n        else:\n            print(\"Error updating\")\n            \n    def size(self):\n        curr = self.head\n        count = 0\n        while curr != None:\n            count += 1\n            curr = curr.get_link()\n        return count\n    \n    def search(self, target):\n        curr = self.head\n        found = False\n        while curr != None and not found:\n            if curr.get_data() == target:\n                found = True\n            else:\n                curr = curr.get_link()\n        return found\n    \n    def delete(self, target):\n        curr = self.head\n        prev = self.head\n        found = False\n        while curr != None and not found:\n            if curr.get_data() == target:\n                prev.set_link(curr.get_link())\n                found = True\n            else:\n                prev = curr\n                curr = curr.get_link()\n        if found:\n            print(\"Deleted\")\n        else:\n            print(\"Error deleting\")\n            \n    def display(self):\n        curr = self.head\n        while curr != None:\n            print(curr.get_data(), end=\" \")\n            curr = curr.get_link()\n        print()\n            \n# main\nlinkedlist = LinkedList()\nlinkedlist.add(34)\n#print(linkedlist.head.data)\n#print(linkedlist.head.link)\nlinkedlist.add(5)\nlinkedlist.add(99)\n#linkedlist.size()\nprint(linkedlist.search(34))\nprint(linkedlist.search(35))\nlinkedlist.display()\nlinkedlist.update(34, 88)\nlinkedlist.update(35, 88)\nlinkedlist.display()\nlinkedlist.delete(5)\nlinkedlist.delete(10)\nlinkedlist.display()\n#print(linkedlist.head.data)\n#print(linkedlist.head.link)\n#print(linkedlist.head.link.data)\n#print(linkedlist.head.link.link)\n#print(linkedlist.head.link.link.data)\n#print(linkedlist.head.link.link.link)",
      "execution_count": 13,
      "outputs": [
        {
          "output_type": "stream",
          "text": "True\nFalse\n99 5 34 \nUpdated\nError updating\n99 5 88 \nDeleted\nError deleting\n99 88 \n",
          "name": "stdout"
        }
      ]
    },
    {
      "metadata": {
        "trusted": true
      },
      "cell_type": "code",
      "source": "# Stack (Array)\n\nclass Stack:\n    \n    MAX = 5\n    \n    def __init__(self):\n        self.data = [0 for i in range(self.MAX)]\n        self.top = -1\n        \n    def is_empty(self):\n        return self.top == -1\n    \n    def is_full(self):\n        return self.top == self.MAX - 1\n    \n    def push(self, data):\n        if self.is_full():\n            print(\"Cannot insert to a full stack\")\n            return -1\n        else:\n            self.top += 1\n            self.data[self.top] = data\n            \n    def pop(self):\n        if self.is_empty():\n            print(\"Cannot delete from an empty stack\")\n            return -1\n        else:\n            data = self.data[self.top]\n            self.top -= 1\n            return data\n        \n    def peek(self):\n        return self.data[self.top]\n    \n    def display(self):\n        i = self.top\n        while i >= 0:\n            print(self.data[i], end=\" \")\n            i -= 1\n        print()\n        \n# main\ns = Stack()\ns.push(5)\ns.push(6)\ns.push(8)\n#print(s.peep())\ns.display()\n#s.push(3)\n#print(s.push(999))\n#print(s.top)\nprint(s.pop())\n#print(s.pop())\n#print(s.pop())\n#print(s.pop())\n#print(s.top)\ns.display()\n#s.data",
      "execution_count": 14,
      "outputs": [
        {
          "output_type": "stream",
          "text": "8 6 5 \n8\n6 5 \n",
          "name": "stdout"
        }
      ]
    },
    {
      "metadata": {
        "trusted": true
      },
      "cell_type": "code",
      "source": "# Stack (Linked List)\n\nclass Node:\n    \n    def __init__(self, data):\n        self.data = data\n        self.link = None\n        \nclass Stack:\n    \n    def __init__(self):\n        self.top = None\n        \n    def is_empty(self):\n        return self.top == None\n    \n    def push(self, data):\n        node = Node(data)\n        node.link = self.top\n        self.top = node\n        \n    def pop(self):\n        if self.is_empty():\n            print(\"Cannot delete from an empty stack\")\n            return -1\n        else:\n            data = self.top.data\n            self.top = self.top.link\n            return data\n        \n    def peek(self):\n        return self.top.data\n    \n    def display(self):\n        curr = self.top\n        while curr != None:\n            print(curr.data, end=\" \")\n            curr = curr.link\n        print()\n        \n# main\ns = Stack()\ns.push(3)\ns.push(9)\ns.push(21)\n#print(s.peep())\ns.display()\n#s.push(3)\n#print(s.push(999))\n#print(s.top)\nprint(s.pop())\n#print(s.pop())\n#print(s.pop())\n#print(s.pop())\n#print(s.top)\ns.display()\n#s.data",
      "execution_count": 15,
      "outputs": [
        {
          "output_type": "stream",
          "text": "21 9 3 \n21\n9 3 \n",
          "name": "stdout"
        }
      ]
    },
    {
      "metadata": {
        "trusted": true
      },
      "cell_type": "code",
      "source": "# Queue (Array)\n\nclass Queue:\n    \n    MAX = 5\n    \n    def __init__(self):\n        self.queue = [0 for i in range(self.MAX)]\n        self.front = 0\n        self.rear = 0\n        \n    def is_empty(self):\n        return self.front == self.rear\n    \n    def is_full(self):\n        return self.size() == self.MAX - 1\n    \n    def size(self):\n        if self.is_empty():\n            return 0\n        elif self.rear > self.front:\n            return self.rear - self.front\n        else:\n            return self.rear + self.MAX - self.front\n        \n    def enqueue(self, data):\n        if self.is_full():\n            print(\"Cannot insert to a full queue\")\n            return -1\n        else:\n            self.queue[self.rear] = data\n            self.rear = (self.rear + 1) % self.MAX\n            \n    def dequeue(self):\n        if self.is_empty():\n            print(\"Cannot delete from an empty queue\")\n            return -1\n        else:\n            data = self.queue[self.front]\n            self.front = (self.front + 1) % self.MAX\n            return data\n        \n    def peek(self):\n        return self.queue[self.front]\n    \n    def display(self):\n        if self.is_empty():\n            print(\"Empty queue\")\n        elif self.rear > self.front:\n            for i in range(self.front, self.rear):\n                print(self.queue[i], end=\" \")\n            print()\n        else:\n            for j in range(self.front, self.MAX):\n                print(self.queue[j], end=\" \")\n            for k in range(self.rear):\n                print(self.queue[k], end=\" \")\n        \n# main\nq = Queue()\nq.enqueue(3)\nq.enqueue(4)\nq.enqueue(99)\nq.enqueue(77)\nq.enqueue(88)\nq.display()\nprint(q.dequeue())\nprint(q.dequeue())\nprint(q.dequeue())\nq.enqueue(55)\nq.display()\n#print(q.dequeue())\n#print(q.dequeue())",
      "execution_count": 16,
      "outputs": [
        {
          "output_type": "stream",
          "text": "Cannot insert to a full queue\n3 4 99 77 \n3\n4\n99\n77 55 ",
          "name": "stdout"
        }
      ]
    },
    {
      "metadata": {
        "trusted": true
      },
      "cell_type": "code",
      "source": "# Queue (Linked List)\n\nclass Node:\n    \n    def __init__(self, data):\n        self.data = data\n        self.link = None\n        \nclass Queue:\n    \n    def __init__(self):\n        self.front = None\n        self.rear = None\n        \n    def is_empty(self):\n        return self.front == self.rear == None\n    \n    def enqueue(self, data):\n        node = Node(data)\n        if self.is_empty():\n            self.front = node\n        else:\n            self.rear.link = node\n        self.rear = node\n        \n    def dequeue(self):\n        if self.is_empty():\n            print(\"Cannot delete from an empty queue\")\n            return -1\n        else:\n            data = self.front.data\n            if self.front.link == None:\n                self.front = None\n                self.rear = None\n            else:\n                self.front = self.front.link\n            return data\n        \n    def peek(self):\n        return self.front.data\n    \n    def display(self):\n        if self.is_empty():\n            print(\"Empty queue\")\n        else:\n            curr = self.front\n            while curr != None:\n                print(curr.data, end=\" \")\n                curr = curr.link\n            print()\n            \n# main\nq = Queue()\nq.enqueue(3)\nq.enqueue(4)\nq.enqueue(99)\nq.enqueue(77)\nq.enqueue(88)\nq.display()\nprint(q.dequeue())\nprint(q.dequeue())\nprint(q.dequeue())\nq.enqueue(55)\nq.display()\n#print(q.dequeue())\n#print(q.dequeue())",
      "execution_count": 19,
      "outputs": [
        {
          "output_type": "stream",
          "text": "3 4 99 77 88 \n3\n4\n99\n77 88 55 \n",
          "name": "stdout"
        }
      ]
    },
    {
      "metadata": {
        "trusted": true
      },
      "cell_type": "code",
      "source": "# Binary Search Tree\n\nclass BST:\n    \n    def __init__(self, data):\n        self.data = data\n        self.left = None\n        self.right = None\n        \n    def insert(self, data):\n        if data < self.data:\n            if self.left is None:\n                self.left = BST(data)\n            else:\n                self.left.insert(data)\n        else:\n            if self.right is None:\n                self.right = BST(data)\n            else:\n                self.right.insert(data)\n                \n    def search(self, target):\n        if self.data == target:\n            return \"Found\"\n        elif self.left is None and self.right is None:\n            return \"Not found\"\n        elif target < self.data:\n            if self.left is None:\n                return \"Not found\"\n            else:\n                return self.left.search(target)\n        else:\n            if self.right is None:\n                return \"Not found\"\n            else:\n                return self.right.search(target)\n                \n    def lookup(self, data, parent=None):\n        if self.data == data:\n            return self, parent\n        elif data < self.data:\n            if self.left is None:\n                return None, None\n            else:\n                return self.left.lookup(data, self)\n        else:\n            if self.right is None:\n                return None, None\n            else:\n                return self.right.lookup(data, self)\n                \n    def delete(self, data):\n        node, parent = self.lookup(data)\n        if node is not None:\n            if node.left is None and node.right is None: # case 1: 0 child\n                if parent.left == node:\n                    parent.left = None\n                else:\n                    parent.right = None\n            elif node.left is None != node.right is None: # case 2: 1 child\n                if node.left:\n                    n = node.left\n                else:\n                    n = node.right\n                if parent.left == node:\n                    parent.left = n\n                else:\n                    parent.right = n     \n            else: # case 3: 2 children\n                parent = node\n                successor = node.right\n                while successor.left:\n                    successor = successor.left\n                node.data = successor.data\n                if parent.left == successor:\n                    parent.left = successor.right\n                else:\n                    parent.right = successor.right              \n        else:\n            return \"Not found\"\n        \n    def minimum(self):\n        if self.left is None:\n            print(\"Smallest:\", self.data)\n        else:\n            return self.left.minimum()\n        \n    def maximum(self):\n        if self.right is None:\n            print(\"Largest:\", self.data)\n        else:\n            self.right.maximum()\n            \n    def inorder(self):\n        if self.left:\n            self.left.inorder()\n        print(self.data, end=\" \")\n        if self.right:\n            self.right.inorder()\n            \n    def preorder(self):\n        print(self.data, end=\" \")\n        if self.left:\n            self.left.preorder()\n        if self.right:\n            self.right.preorder()\n            \n    def postorder(self):\n        if self.left:\n            self.left.postorder()\n        if self.right:\n            self.right.postorder()\n        print(self.data, end=\" \")\n        \n    def reverse(self):\n        if self.right:\n            self.right.reverse()\n        print(self.data, end=\" \")\n        if self.left:\n            self.left.reverse()\n            \n# main\nbst = BST(50)\nbst.insert(30)\nbst.insert(80)\nbst.insert(10)\nbst.insert(40)\nbst.insert(70)\nbst.insert(90)\nbst.inorder()\nprint()\nbst.preorder()\nprint()\nbst.postorder()\nprint()\nbst.reverse()\nprint()\nbst.delete(90) # 0 child\nbst.delete(70) # 1 child\nbst.delete(50) # 2 children\nbst.inorder()\nprint()\n#print(bst.search(80))\n#print(bst.search(100))\n#print(bst.minimum())\n#print(bst.maximum())\nbst.data",
      "execution_count": 5,
      "outputs": [
        {
          "output_type": "stream",
          "text": "10 30 40 50 70 80 90 \n50 30 10 40 80 70 90 \n10 40 30 70 90 80 50 \n90 80 70 50 40 30 10 \n10 30 40 80 \n",
          "name": "stdout"
        },
        {
          "output_type": "execute_result",
          "execution_count": 5,
          "data": {
            "text/plain": "80"
          },
          "metadata": {}
        }
      ]
    },
    {
      "metadata": {
        "trusted": true
      },
      "cell_type": "code",
      "source": "",
      "execution_count": null,
      "outputs": []
    }
  ],
  "metadata": {
    "kernelspec": {
      "name": "python36",
      "display_name": "Python 3.6",
      "language": "python"
    },
    "language_info": {
      "mimetype": "text/x-python",
      "nbconvert_exporter": "python",
      "name": "python",
      "pygments_lexer": "ipython3",
      "version": "3.6.6",
      "file_extension": ".py",
      "codemirror_mode": {
        "version": 3,
        "name": "ipython"
      }
    }
  },
  "nbformat": 4,
  "nbformat_minor": 2
}