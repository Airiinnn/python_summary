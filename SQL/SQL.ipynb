{
 "cells": [
  {
   "cell_type": "markdown",
   "metadata": {},
   "source": [
    "# SQLite\n",
    "- Creating table and inserting values\n",
    "- Fetching data"
   ]
  },
  {
   "cell_type": "code",
   "execution_count": 1,
   "metadata": {},
   "outputs": [],
   "source": [
    "# Creating table and inserting\n",
    "\n",
    "import sqlite3\n",
    "\n",
    "connection = sqlite3.connect(\"myTable.db\")\n",
    "\n",
    "cursor = connection.cursor()\n",
    "\n",
    "sql_command = \"\"\"CREATE TABLE students (\n",
    "id INTEGER PRIMARY KEY,\n",
    "fname VARCHAR(20),\n",
    "lname VARCHAR(20),\n",
    "gender CHAR(1),\n",
    "AGE INTEGER);\"\"\"\n",
    "\n",
    "cursor.execute(sql_command)\n",
    "\n",
    "sql_command = \"\"\"INSERT INTO students VALUES (1, \"Alex\", \"Liswandy\", \"M\", 16);\"\"\"\n",
    "cursor.execute(sql_command)\n",
    "\n",
    "sql_command = \"\"\"INSERT INTO students VALUES (2, \"Bob\", \"Bee\", \"M\", 17);\"\"\"\n",
    "cursor.execute(sql_command)\n",
    "\n",
    "sql_command = \"\"\"INSERT INTO students VALUES (3, \"Charlie\", \"Lee\", \"M\", 14);\"\"\"\n",
    "cursor.execute(sql_command)\n",
    "\n",
    "connection.commit()\n",
    "\n",
    "connection.close()"
   ]
  },
  {
   "cell_type": "code",
   "execution_count": 4,
   "metadata": {},
   "outputs": [
    {
     "name": "stdout",
     "output_type": "stream",
     "text": [
      "Alex Liswandy\n",
      "Bob Bee\n",
      "Charles Lee\n"
     ]
    }
   ],
   "source": [
    "# Fetching data\n",
    "\n",
    "import sqlite3\n",
    "\n",
    "connection = sqlite3.connect(\"myTable.db\")\n",
    "\n",
    "cursor = connection.cursor()\n",
    "\n",
    "cursor.execute(\"SELECT fname, lname FROM students\")\n",
    "\n",
    "names = cursor.fetchall()\n",
    "\n",
    "for name in names:\n",
    "    print(name[0] + \" \" + name[1])"
   ]
  },
  {
   "cell_type": "code",
   "execution_count": 3,
   "metadata": {},
   "outputs": [],
   "source": [
    "# Updating data\n",
    "\n",
    "import sqlite3\n",
    "\n",
    "connection = sqlite3.connect(\"myTable.db\")\n",
    "\n",
    "cursor = connection.cursor()\n",
    "\n",
    "cursor.execute(\"UPDATE students SET fname = 'Charles' WHERE fname == 'Charlie';\")\n",
    "\n",
    "connection.commit()\n",
    "\n",
    "connection.close()"
   ]
  },
  {
   "cell_type": "code",
   "execution_count": null,
   "metadata": {},
   "outputs": [],
   "source": []
  }
 ],
 "metadata": {
  "kernelspec": {
   "display_name": "Python 3",
   "language": "python",
   "name": "python3"
  },
  "language_info": {
   "codemirror_mode": {
    "name": "ipython",
    "version": 3
   },
   "file_extension": ".py",
   "mimetype": "text/x-python",
   "name": "python",
   "nbconvert_exporter": "python",
   "pygments_lexer": "ipython3",
   "version": "3.8.2"
  }
 },
 "nbformat": 4,
 "nbformat_minor": 2
}
