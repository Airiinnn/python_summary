{
  "cells": [
    {
      "metadata": {},
      "cell_type": "markdown",
      "source": "# SQLite\n- Creating table and inserting values\n- Fetching data"
    },
    {
      "metadata": {
        "trusted": true
      },
      "cell_type": "code",
      "source": "# Creating table and inserting\n\nimport sqlite3\n\nconnection = sqlite3.connect(\"myTable.db\")\n\ncursor = connection.cursor()\n\nsql_command = \"\"\"CREATE TABLE students (\nid INTEGER PRIMARY KEY,\nfname VARCHAR(20),\nlname VARCHAR(20),\ngender CHAR(1),\nAGE INTEGER);\"\"\"\n\ncursor.execute(sql_command)\n\nsql_command = \"\"\"INSERT INTO students VALUES (1, \"Alex\", \"Liswandy\", \"M\", 16);\"\"\"\ncursor.execute(sql_command)\n\nsql_command = \"\"\"INSERT INTO students VALUES (2, \"Bob\", \"Bee\", \"M\", 17);\"\"\"\ncursor.execute(sql_command)\n\nsql_command = \"\"\"INSERT INTO students VALUES (3, \"Charlie\", \"Lee\", \"M\", 14);\"\"\"\ncursor.execute(sql_command)\n\nconnection.commit()\n\nconnection.close()",
      "execution_count": 1,
      "outputs": []
    },
    {
      "metadata": {
        "trusted": true
      },
      "cell_type": "code",
      "source": "# Fetching data\n\nimport sqlite3\n\nconnection = sqlite3.connect(\"myTable.db\")\n\ncursor = connection.cursor()\n\ncursor.execute(\"SELECT fname, lname FROM students\")\n\nnames = cursor.fetchall()\n\nfor name in names:\n    print(name[0] + \" \" + name[1])",
      "execution_count": 6,
      "outputs": [
        {
          "output_type": "stream",
          "text": "Alex Liswandy\nBob Bee\nCharlie Lee\n",
          "name": "stdout"
        }
      ]
    }
  ],
  "metadata": {
    "kernelspec": {
      "name": "python36",
      "display_name": "Python 3.6",
      "language": "python"
    },
    "language_info": {
      "mimetype": "text/x-python",
      "nbconvert_exporter": "python",
      "name": "python",
      "pygments_lexer": "ipython3",
      "version": "3.6.6",
      "file_extension": ".py",
      "codemirror_mode": {
        "version": 3,
        "name": "ipython"
      }
    }
  },
  "nbformat": 4,
  "nbformat_minor": 2
}