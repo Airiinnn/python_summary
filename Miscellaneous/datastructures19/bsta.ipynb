{
  "cells": [
    {
      "metadata": {
        "trusted": true
      },
      "cell_type": "code",
      "source": "# Binary Search Tree\n\nclass BST:\n    \n    def __init__(self, data):\n        self.data = data\n        self.left = None\n        self.right = None\n        \n    def insert(self, data):\n        if data < self.data: # insert left\n            if self.left is None: # insert as leaf node\n                self.left = BST(data)\n            else: # insert to left\n                self.left.insert(data)\n        else: # insert right\n            if self.right is None: # insert as right node\n                self.right = BST(data)\n            else: # insert to right\n                self.right.insert(data)\n\n    def search(self, target):\n        if self.data == target: # found\n            return \"Found\" # terminating case\n        elif self.left is None and self.right is None: # not found\n            return \"Not found\" # terminating case\n        elif target < self.data: # search left\n            if self.left is None:\n                return \"Not found\"\n            else: # continue left search\n                return self.left.search(target) # recursive case\n        else: # search right\n            if self.right is None:\n                return \"Not found\"\n            else: # continue right search\n                return self.right.search(target) # recursive case\n\n    def lookup(self, data, parent=None):\n        if self.data == data:\n            return self, parent\n        elif data < self.data: # go left\n            if self.left is None:\n                return None, None\n            else: \n                return self.left.lookup(data, self)\n        else: # go right\n            if self.right is None:\n                return None, None\n            else: \n                return self.right.lookup(data, self)            \n            \n    def delete(self, data):\n        node, parent = self.lookup(data)\n        if node: # found\n            if (node.left is None) and (node.right is None): # case 1: 0 child\n                if parent.left is node:\n                    parent.left = None\n                else:\n                    parent.right = None\n                del node\n            elif (node.left is None) != (node.right is None): # case 2: 1 child\n                if node.left:\n                    n = node.left\n                else:\n                    n = node.right\n                if parent.left is node:\n                    parent.left = n\n                else:\n                    parent.right = n\n                del node\n            else: # case 3: 2 children\n                # replace with inorder successor \n                parent = node\n                successor = node.right\n                while successor.left:\n                    parent = successor\n                    successor = sucessor.left\n                node.data = successor.data\n                # fix successor's parent node child\n                if parent.left == successor:\n                    parent.left = successor.right\n                else:\n                    parent.right = successor.right\n        else:\n            print(\"Not found\")\n            \n    def minimum(self):\n        if self.left is None: # no more left\n            return self.data\n        else:\n            return self.left.minimum()\n\n    def maximum(self):\n        if self.right is None: # no more right\n            return self.data\n        else:\n            return self.right.maximum()\n        \n    def inorder(self):\n        if self.left: # if self.left is not None:\n            self.left.inorder()\n        print(self.data, end=' ') # root\n        if self.right:\n            self.right.inorder()\n        \n    def preorder(self):\n        print(self.data, end=' ') # root        \n        if self.left: # if self.left is not None:\n            self.left.preorder()\n        if self.right:\n            self.right.preorder()\n        \n    def postorder(self):      \n        if self.left: # if self.left is not None:\n            self.left.postorder()\n        if self.right:\n            self.right.postorder()\n        print(self.data, end=' ') # root  \n\n    def reverse(self):      \n        if self.right:\n            self.right.reverse()\n        print(self.data, end=' ') # root          \n        if self.left: # if self.left is not None:\n            self.left.reverse()        \n        \n        \n# main\nbst = BST(50)\nbst.insert(30)\nbst.insert(70)\nbst.insert(100)\nbst.insert(10)\nbst.insert(40)\nbst.inorder()\nprint()\nbst.delete(40)\nbst.delete(10)\nbst.delete(50)\nbst.inorder()\nprint()\n#bst.preorder()\n#print()\n#bst.postorder()\n#print()\n#bst.reverse()\n#print()\n#print(bst.search(70))\n#print(bst.search(20))\n#print(bst.minimum())\n#print(bst.maximum())",
      "execution_count": 4,
      "outputs": [
        {
          "output_type": "stream",
          "text": "10 30 40 50 70 100 \n30 70 100 \n",
          "name": "stdout"
        }
      ]
    },
    {
      "metadata": {
        "trusted": true
      },
      "cell_type": "code",
      "source": "",
      "execution_count": null,
      "outputs": []
    }
  ],
  "metadata": {
    "kernelspec": {
      "name": "python36",
      "display_name": "Python 3.6",
      "language": "python"
    },
    "language_info": {
      "mimetype": "text/x-python",
      "nbconvert_exporter": "python",
      "name": "python",
      "pygments_lexer": "ipython3",
      "version": "3.6.6",
      "file_extension": ".py",
      "codemirror_mode": {
        "version": 3,
        "name": "ipython"
      }
    }
  },
  "nbformat": 4,
  "nbformat_minor": 2
}