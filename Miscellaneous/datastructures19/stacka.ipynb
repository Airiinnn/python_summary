{
  "cells": [
    {
      "metadata": {
        "collapsed": true
      },
      "cell_type": "markdown",
      "source": "Stack\n- LIFO (Last In First Out)\n- FILO (First In Last Out)"
    },
    {
      "metadata": {
        "trusted": true
      },
      "cell_type": "code",
      "source": "# Stack class - array version\n\nclass Stack:\n    \n    MAX = 3\n    \n    def __init__(self):\n        self.data = []\n        for i in range(self.MAX):\n            self.data.append(0)\n        self.top = -1\n\n    def is_empty(self):\n        return self.top == -1\n        \n    def is_full(self):\n        return self.top == self.MAX - 1\n        \n    def push(self, data): # insert\n        if self.is_full():\n            print(\"Cannot insert to full stack\")\n            return -1\n        else: # can insert\n            self.top += 1\n            self.data[self.top] = data\n        \n    def pop(self): # delete\n        if self.is_empty():\n            print(\"Cannot delete from empty stack\")\n            return -1\n        else: # can delete\n            data = self.data[self.top]\n            self.top -= 1\n            return data\n\n    def peek(self):\n        return self.data[self.top]\n        \n    def display(self):\n        i = self.top\n        while i >= 0:\n            print(self.data[i], end=' ')\n            i -= 1\n        print()\n        \n",
      "execution_count": 13,
      "outputs": [
        {
          "output_type": "stream",
          "text": "Cannot insert to full stack\n3 6 5 \n3\n6\n5\nCannot delete from empty stack\n-1\n\n",
          "name": "stdout"
        },
        {
          "output_type": "execute_result",
          "execution_count": 13,
          "data": {
            "text/plain": "-1"
          },
          "metadata": {}
        }
      ]
    },
    {
      "metadata": {
        "trusted": true
      },
      "cell_type": "code",
      "source": "# stack class - linked list version\n\nclass Node:\n    \n    def __init__(self, data):\n        self.data = data\n        self.link = None\n\n\nclass Stack:\n    \n    def __init__(self):\n        self.top = None\n        \n    def is_empty(self):\n        return self.top == None\n        \n    def is_full(self):\n        pass # impossible \n        \n    def push(self, data):\n        node = Node(data)\n        node.link = self.top\n        self.top = node\n        \n    def pop(self):\n        if self.is_empty():\n            print(\"Cannot delete from empty stack\")\n            return -1\n        else:\n            data = self.top.data\n            self.top = self.top.link\n            return data\n    \n    def peek(self):\n        return self.top.data\n    \n    def display(self):\n        curr = self.top\n        while curr != None:\n            print(curr.data, end=' ')\n            curr = curr.link\n        print()\n    ",
      "execution_count": 2,
      "outputs": []
    },
    {
      "metadata": {
        "trusted": true
      },
      "cell_type": "code",
      "source": "# main\ns = Stack()\n#s.data\ns.push(5)\ns.push(6)\ns.push(3)\ns.push(999)\n#print(s.data)\ns.display()\nprint(s.pop())\nprint(s.pop())\nprint(s.pop())\nprint(s.pop())\nprint(s.pop())\ns.display()\ns.top",
      "execution_count": 4,
      "outputs": [
        {
          "output_type": "stream",
          "text": "999 3 6 5 \n999\n3\n6\n5\nCannot delete from empty stack\n-1\n\n",
          "name": "stdout"
        }
      ]
    },
    {
      "metadata": {
        "trusted": true
      },
      "cell_type": "code",
      "source": "def decimal_to_binary(n):\n    result = ''\n    while n != 0:\n        result = str(n % 2) + result\n        n //= 2 # n = n // 2\n    return result\n    \n# main\ndecimal_to_binary(34)",
      "execution_count": 5,
      "outputs": [
        {
          "output_type": "execute_result",
          "execution_count": 5,
          "data": {
            "text/plain": "'100010'"
          },
          "metadata": {}
        }
      ]
    },
    {
      "metadata": {
        "trusted": true
      },
      "cell_type": "code",
      "source": "def decimal_to_binary_stack(n):\n    s = Stack()\n    while n != 0:\n        s.push(n % 2)\n        n //= 2\n    while not s.is_empty():\n        print(s.pop(), end='')\n        \n# main\ndecimal_to_binary_stack(34)",
      "execution_count": 8,
      "outputs": [
        {
          "output_type": "stream",
          "text": "100010",
          "name": "stdout"
        }
      ]
    },
    {
      "metadata": {
        "trusted": true
      },
      "cell_type": "code",
      "source": "def decimal_to_octal_stack(n):\n    s = Stack()\n    while n != 0:\n        s.push(n % 8)\n        n //= 8\n    while not s.is_empty():\n        print(s.pop(), end='')\n        \n# main\ndecimal_to_octal_stack(34)",
      "execution_count": 10,
      "outputs": [
        {
          "output_type": "stream",
          "text": "42",
          "name": "stdout"
        }
      ]
    },
    {
      "metadata": {
        "trusted": true
      },
      "cell_type": "code",
      "source": "",
      "execution_count": null,
      "outputs": []
    }
  ],
  "metadata": {
    "kernelspec": {
      "name": "python36",
      "display_name": "Python 3.6",
      "language": "python"
    },
    "language_info": {
      "mimetype": "text/x-python",
      "nbconvert_exporter": "python",
      "name": "python",
      "pygments_lexer": "ipython3",
      "version": "3.6.6",
      "file_extension": ".py",
      "codemirror_mode": {
        "version": 3,
        "name": "ipython"
      }
    }
  },
  "nbformat": 4,
  "nbformat_minor": 2
}