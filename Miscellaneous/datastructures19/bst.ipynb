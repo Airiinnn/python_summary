{
  "cells": [
    {
      "metadata": {
        "trusted": true
      },
      "cell_type": "code",
      "source": "# BST class\n\nclass BST:\n    \n    def __init__(self, data):\n        self.data = data\n        self.left = None\n        self.right = None\n        \n    def insert(self, data):\n        if data < self.data: # insert to left\n            if self.left is None: # insert as left leaf\n                self.left = BST(data)\n            else: # insert to left subtree\n                self.left.insert(data)\n        else: # insert to right\n            if self.right is None: # insert as right leaf\n                self.right = BST(data)\n            else:\n                self.right.insert(data)\n\n    def search(self, target):\n        if self.data == target: # terminating case\n            return \"Found\"\n        elif self.left is None and self.right is None: # not found \n            return \"Not found\" # terminating case\n        elif target < self.data: # search left\n            if self.left is None:\n                return \"Not found\"\n            else: # continue left search\n                return self.left.search(target) # recursive case\n        else: # target > self.data, so search right\n            if self.right is None:\n                return \"Not found\"\n            else: # continue right search\n                return self.right.search(target) # recursive case\n       \n    def lookup(self, data, parent=None):\n        if self.data == data: # found\n            return self, parent\n        elif data < self.data: # go left\n            if self.data is None:\n                return None, None\n            else:\n                return self.left.lookup(data, self)\n        else: # go right\n            if self.data is None:\n                return None, None\n            else:\n                return self.right.lookup(data, self)\n\n    def delete(self, data):\n        # get to be deleted node and its parent\n        node, parent = self.lookup(data)\n        if node is not None:\n            if (node.left is None) and (node.right is None): # case 1: 0 child\n                if parent.left is node:\n                    parent.left = None\n                else:\n                    parent.right = None\n            elif (node.left is None) != (node.right is None): # case 2: 1 child\n                if node.left:\n                    n = node.left\n                else:\n                    n = node.right\n                if parent.left is node:\n                    parent.left = n\n                else:\n                    parent.right = n\n                del node\n            else: # case 3: 2 children\n                # replace with inorder successor\n                parent = node\n                successor = node.right\n                while successor.left:\n                    successor = successor.left\n                node.data = successor.data\n                # fix successor's parent node child\n                if parent.left == successor:\n                    parent.left = successor.right\n                else:\n                    parent.right = successor.right\n        else:\n            return \"Not found\"\n    \n    def minimum(self):\n        if self.left is None:\n            print(\"Smallest:\", self.data)\n        else:\n            return self.left.minimum()\n    \n    def maximum(self):\n        if self.right is None:\n            return self.data\n        else:\n            return self.right.maximum() \n            \n    def inorder(self):\n        if self.left: # if self.left is not None:\n            self.left.inorder()\n        print(self.data, end=' ')\n        if self.right: # if self.right is not None:\n            self.right.inorder()\n\n    def preorder(self):\n        print(self.data, end=' ')\n        if self.left: # if self.left is not None:\n            self.left.preorder()\n        if self.right: # if self.right is not None:\n            self.right.preorder()            \n\n    def postorder(self):\n        if self.left: # if self.left is not None:\n            self.left.postorder()\n        if self.right: # if self.right is not None:\n            self.right.postorder()\n        print(self.data, end=' ')\n\n    def reverse(self):\n        if self.right: # if self.right is not None:\n            self.right.reverse()\n        print(self.data, end=' ')           \n        if self.left: # if self.left is not None:\n            self.left.reverse()\n     \n  \n# main\nbst = BST(50)\nbst.insert(30)\nbst.insert(80)\nbst.insert(10)\nbst.insert(40)\nbst.insert(70)\nbst.insert(90)\nbst.inorder()\nprint()\nbst.delete(90) # 0 child\nbst.delete(70) # 1 child\nbst.delete(50) # 2 children\nbst.inorder()\nprint()\n#bst.preorder()\n#print()\n#bst.postorder()\n#print()\n#bst.reverse()\n#print()\n#print(bst.search(80))\n#print(bst.search(100))\n#print(bst.minimum())\n#print(bst.maximum())\nbst.data",
      "execution_count": 7,
      "outputs": [
        {
          "output_type": "stream",
          "text": "10 30 40 50 70 80 90 \n10 30 40 80 \n",
          "name": "stdout"
        },
        {
          "output_type": "execute_result",
          "execution_count": 7,
          "data": {
            "text/plain": "80"
          },
          "metadata": {}
        }
      ]
    },
    {
      "metadata": {
        "trusted": true
      },
      "cell_type": "code",
      "source": "ord('A')",
      "execution_count": 1,
      "outputs": [
        {
          "output_type": "execute_result",
          "execution_count": 1,
          "data": {
            "text/plain": "65"
          },
          "metadata": {}
        }
      ]
    },
    {
      "metadata": {
        "trusted": true
      },
      "cell_type": "code",
      "source": "ord(' ')",
      "execution_count": 2,
      "outputs": [
        {
          "output_type": "execute_result",
          "execution_count": 2,
          "data": {
            "text/plain": "32"
          },
          "metadata": {}
        }
      ]
    },
    {
      "metadata": {
        "trusted": true
      },
      "cell_type": "code",
      "source": "ord('Z')",
      "execution_count": 3,
      "outputs": [
        {
          "output_type": "execute_result",
          "execution_count": 3,
          "data": {
            "text/plain": "90"
          },
          "metadata": {}
        }
      ]
    },
    {
      "metadata": {
        "trusted": true
      },
      "cell_type": "code",
      "source": "chr(ord('a') - 32)",
      "execution_count": 4,
      "outputs": [
        {
          "output_type": "execute_result",
          "execution_count": 4,
          "data": {
            "text/plain": "'A'"
          },
          "metadata": {}
        }
      ]
    },
    {
      "metadata": {
        "trusted": true
      },
      "cell_type": "code",
      "source": "chr(65)",
      "execution_count": 5,
      "outputs": [
        {
          "output_type": "execute_result",
          "execution_count": 5,
          "data": {
            "text/plain": "'A'"
          },
          "metadata": {}
        }
      ]
    },
    {
      "metadata": {
        "trusted": true
      },
      "cell_type": "code",
      "source": "",
      "execution_count": null,
      "outputs": []
    }
  ],
  "metadata": {
    "kernelspec": {
      "name": "python36",
      "display_name": "Python 3.6",
      "language": "python"
    },
    "language_info": {
      "mimetype": "text/x-python",
      "nbconvert_exporter": "python",
      "name": "python",
      "pygments_lexer": "ipython3",
      "version": "3.6.6",
      "file_extension": ".py",
      "codemirror_mode": {
        "version": 3,
        "name": "ipython"
      }
    }
  },
  "nbformat": 4,
  "nbformat_minor": 2
}