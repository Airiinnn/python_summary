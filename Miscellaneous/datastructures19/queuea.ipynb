{
  "cells": [
    {
      "metadata": {
        "collapsed": true
      },
      "cell_type": "markdown",
      "source": "Queue\n- FIFO (First In First Out)\n- LILO (Last In Last Out)"
    },
    {
      "metadata": {
        "trusted": true
      },
      "cell_type": "code",
      "source": "# queue class using array\n\nclass Queue:\n    \n    MAX = 5 # queue will hold MAX-1 items\n    \n    def __init__(self):\n        self.data = []\n        for i in range(self.MAX):\n            self.data.append(0)\n        self.front = 0\n        self.rear = 0\n        \n    def is_empty(self):\n        return self.front == self.rear\n\n    def is_full(self):\n        return self.size() == self.MAX - 1\n    \n    def size(self):\n        if self.is_empty():\n            return 0\n        elif self.front < self.rear:\n            return self.rear - self.front\n        else: # rear before front\n            return self.rear + self.MAX - self.front\n    \n    def enqueue(self, data): # insert\n        if self.is_full():\n            print(\"Cannot insert to full queue\")\n            return -1\n        else:\n            self.data[self.rear] = data\n            self.rear = (self.rear + 1) % self.MAX\n        \n    def dequeue(self): # delete\n        if self.is_empty():\n            print(\"Cannot delete from empty queue\")\n            return -1\n        else:\n            data = self.data[self.front]\n            self.front = (self.front + 1) % self.MAX\n            return data\n        \n    def peek(self):\n        return self.data[self.front]\n        \n    def display(self):\n        if self.is_empty():\n            print(\"Empty queue\")\n        else:\n            if self.front < self.rear:\n                for i in range(self.front, self.rear):\n                    print(self.data[i], end=' ')\n            else: # rear before front\n                for j in range(self.front, self.MAX):\n                    print(self.data[j], end=' ')\n                for k in range(0, self.rear):\n                    print(self.data[k], end=' ')\n        print()\n    ",
      "execution_count": 5,
      "outputs": [
        {
          "output_type": "stream",
          "text": "Cannot insert to full queue\na b c d \nDeleted: a\nDeleted: b\nDeleted: c\nDeleted: d\nCannot delete from empty queue\nDeleted: -1\nEmpty queue\n\n",
          "name": "stdout"
        }
      ]
    },
    {
      "metadata": {
        "trusted": true
      },
      "cell_type": "code",
      "source": "# queue class linked list version\n\nclass Node:\n    \n    def __init__(self, data):\n        self.data = data\n        self.link = None\n        \n    \nclass Queue:\n    \n    def __init__(self):\n        self.front = None\n        self.rear = None\n        \n    def is_empty(self):\n        return self.front == self.rear == None\n        \n    def is_full(self):\n        pass # impossible\n    \n    def enqueue(self, data):\n        node = Node(data)\n        if self.is_empty():\n            self.front = node\n        else:\n            self.rear.link = node\n        self.rear = node\n        \n    def dequeue(self):\n        if self.is_empty():\n            print(\"Cannot delete from empty queue\")\n            return -1\n        else:\n            data = self.front.data\n            if self.front.link == None: # last node\n                self.front = None\n                self.rear = None\n            else: # not last node\n                self.front = self.front.link\n            return data\n                \n    def peek(self):\n        return self.front.data\n    \n    def display(self):\n        if self.is_empty():\n            print(\"Empty queue\")\n        else:\n            curr = self.front\n            while curr != None:\n                print(curr.data, end=' ')\n                curr = curr.link\n            print()",
      "execution_count": 6,
      "outputs": []
    },
    {
      "metadata": {
        "trusted": true
      },
      "cell_type": "code",
      "source": "# main\nq = Queue()\nq.enqueue('a')\nq.enqueue('b')\nq.enqueue('c')\nq.enqueue('d')\nq.enqueue('e')\nq.display()\nprint(\"Deleted:\", q.dequeue())\nprint(\"Deleted:\", q.dequeue())\nprint(\"Deleted:\", q.dequeue())\nprint(\"Deleted:\", q.dequeue())\nprint(\"Deleted:\", q.dequeue())\nq.display()",
      "execution_count": 7,
      "outputs": [
        {
          "output_type": "stream",
          "text": "a b c d e \nDeleted: a\nDeleted: b\nDeleted: c\nDeleted: d\nDeleted: e\nEmpty queue\n",
          "name": "stdout"
        }
      ]
    },
    {
      "metadata": {
        "trusted": true
      },
      "cell_type": "code",
      "source": "",
      "execution_count": null,
      "outputs": []
    }
  ],
  "metadata": {
    "kernelspec": {
      "name": "python36",
      "display_name": "Python 3.6",
      "language": "python"
    },
    "language_info": {
      "mimetype": "text/x-python",
      "nbconvert_exporter": "python",
      "name": "python",
      "pygments_lexer": "ipython3",
      "version": "3.6.6",
      "file_extension": ".py",
      "codemirror_mode": {
        "version": 3,
        "name": "ipython"
      }
    }
  },
  "nbformat": 4,
  "nbformat_minor": 2
}