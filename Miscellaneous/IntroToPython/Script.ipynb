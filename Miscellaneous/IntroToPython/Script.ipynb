{
  "cells": [
    {
      "metadata": {
        "trusted": true
      },
      "cell_type": "code",
      "source": "                         \n    \n    \n    \n#---------------------------------------------------------------------------------------------------------------------------------------------------------------------------------------------------------\n#------------------------------------------------------------------------------- Intoduction to Python 3 -------------------------------------------------------------------------------------------------\n#--------------------------------------------------- Please use the code below or ask any of the facilitators if unable to follow or unsure -------------------------------------------------------------- \n#---------------------------------------------------------------------------------------------------------------------------------------------------------------------------------------------------------\n        \n        \n",
      "execution_count": 18,
      "outputs": []
    },
    {
      "metadata": {
        "trusted": true,
        "scrolled": true
      },
      "cell_type": "code",
      "source": "#style guide PEP-8\n#https://www.python.org/dev/peps/pep-0008/\n#Hello World!\n#print() function\nprint(\"Hello World!\")",
      "execution_count": 19,
      "outputs": [
        {
          "output_type": "stream",
          "text": "Hello World!\n",
          "name": "stdout"
        }
      ]
    },
    {
      "metadata": {
        "trusted": true
      },
      "cell_type": "code",
      "source": "#data types\na = 'I ate at McDonalds. The burger cost $' #string\nb = 3 #integer\nc = 3.57 #float\nprint(type(a)) #using built-in type() function to find type of a\nprint(type(b)) #using built-in type() function to find type of b\nprint(type(c)) #using built-in type() function to find type of c\n\n#data type conversion\n#changing all to string\n#as a is already a string we do not need to change it\ncost = str(b+c)\nprint(a + cost)",
      "execution_count": 3,
      "outputs": [
        {
          "output_type": "stream",
          "text": "<class 'str'>\n<class 'int'>\n<class 'float'>\nI ate at McDonalds. The burger cost $6.57\n",
          "name": "stdout"
        }
      ]
    },
    {
      "metadata": {
        "trusted": true,
        "scrolled": true
      },
      "cell_type": "code",
      "source": "#booleans\n#True, False\n#note the capitalisation\nprint(1 == 1)\nprint(1.1 == 1.1)\nprint('1.1' == '1.1')\nprint(True == 1)\nprint(False == 0)\n",
      "execution_count": 24,
      "outputs": [
        {
          "output_type": "stream",
          "text": "True\nTrue\nTrue\nTrue\nTrue\n",
          "name": "stdout"
        }
      ]
    },
    {
      "metadata": {
        "trusted": true
      },
      "cell_type": "code",
      "source": "#defining variables\na = 1 #defining a as 1\nprint(a)\na = 2 #overrides previous definition, a is now 2\nprint(a)",
      "execution_count": 6,
      "outputs": [
        {
          "output_type": "stream",
          "text": "1\n2\n",
          "name": "stdout"
        }
      ]
    },
    {
      "metadata": {
        "trusted": true
      },
      "cell_type": "code",
      "source": "#math operators\nprint(2 + 3) #addition\nprint(3 - 2) #subtraction\nprint(3 * 8) #multiplication\nprint(8 / 2) #division\nprint(8 % 3) #modulo\nprint(8 // 3) #floor division\nprint(2 ** 3) #power",
      "execution_count": 5,
      "outputs": [
        {
          "output_type": "stream",
          "text": "5\n1\n24\n4.0\n2\n2\n8\n",
          "name": "stdout"
        }
      ]
    },
    {
      "metadata": {
        "trusted": true
      },
      "cell_type": "code",
      "source": "#Comparision operators\na = 2 \nb = 4\n#returns boolean\nprint(a == b) #if a is equal to b (Note: Data types do matter)\nprint(a > b) #if a is more than b\nprint(a >= b) #if a is more than or equal to b\nprint(a < b) #if a is less than b\nprint(a <= b) #if a is less than or equal to b",
      "execution_count": 25,
      "outputs": [
        {
          "output_type": "stream",
          "text": "False\nFalse\nFalse\nTrue\nTrue\n",
          "name": "stdout"
        }
      ]
    },
    {
      "metadata": {
        "trusted": true
      },
      "cell_type": "code",
      "source": "#tuples, lists and dictionaries\na = (1, 2) #a tuple\nprint(type(a))\nprint(a)\na = [1, 2] #a list\nprint(type(a))\nprint(a)\na = {1: 2} #a dictionary with format {key:value}\nprint(type(a))\nprint(a)",
      "execution_count": 26,
      "outputs": [
        {
          "output_type": "stream",
          "text": "<class 'tuple'>\n(1, 2)\n<class 'list'>\n[1, 2]\n<class 'dict'>\n{1: 2}\n",
          "name": "stdout"
        }
      ]
    },
    {
      "metadata": {
        "trusted": true
      },
      "cell_type": "code",
      "source": "#methods\na = 'HEllo'\nx = a.upper() #makes all letters uppercase (strings only)\nprint(x)\nx = a.lower() #makes all letters lowercase (strings only)\nprint(x)\nx = a.capitalize() #makes first letter uppercase (strings only)\nprint(x)\nb = [a, 'world']\nx = ' '.join(b) #joins elements with a space (for tuples and lists)\nprint(x)\ny = x.split() #splits a string into elements at given arguement (default arguement is space)\nprint(y)",
      "execution_count": 27,
      "outputs": [
        {
          "output_type": "stream",
          "text": "HELLO\nhello\nHello\nHEllo world\n['HEllo', 'world']\n",
          "name": "stdout"
        }
      ]
    },
    {
      "metadata": {
        "trusted": true
      },
      "cell_type": "code",
      "source": "#if, elif, else\na = 1\nif a == 2:\n    print(\"Equal 2\")\nelif a > 2:\n    print(\"More than 2\")\nelse:\n    print(\"Less than 2\")",
      "execution_count": 28,
      "outputs": [
        {
          "output_type": "stream",
          "text": "Less than 2\n",
          "name": "stdout"
        }
      ]
    },
    {
      "metadata": {
        "trusted": true
      },
      "cell_type": "code",
      "source": "#function\ndef Hello_World(input_string): #defining a function\n    print(\"Hello \" + input_string)\n    \n    \nHello_World(\"John\")",
      "execution_count": 29,
      "outputs": [
        {
          "output_type": "stream",
          "text": "Hello John\n",
          "name": "stdout"
        }
      ]
    },
    {
      "metadata": {
        "trusted": true
      },
      "cell_type": "code",
      "source": "#BMI calculator\ndef Bmi_Calculator(weight, height): #weight in kg and height in m\n    bmi = weight/(height**2)\n    print(\"Your BMI is \" + str(bmi))\n    if bmi >= 27.5:\n        print(\"High Risk\")\n    elif 23 <= bmi < 27.5:\n        print(\"Moderate Risk\")\n    elif 18.5 <= bmi < 23:\n        print(\"Low Risk\")\n    else:\n        print(\"More Nutrition\")\n\n        \nBmi_Calculator(65, 1.8)",
      "execution_count": 3,
      "outputs": [
        {
          "output_type": "stream",
          "text": "Your BMI is 20.061728395061728\nLow Risk\n",
          "name": "stdout"
        }
      ]
    },
    {
      "metadata": {
        "trusted": true
      },
      "cell_type": "code",
      "source": "#using input() and strip()\n# input() as for an input from the user, receives it as string\na = input(\"Enter Number: \")\nprint(type(a))\n#strip() removes the extra spacing before and after the input\na = input(\"Enter Number: \")\nprint(a)\nb = a.strip() #removing spacing before and after number\nprint(b)\n#applying to bmi_calculator\nweight = float(input(\"Enter weight(kg): \").strip()) \nheight = float(input(\"Enter height(m): \").strip())\nBmi_Calculator(weight, height)",
      "execution_count": 7,
      "outputs": [
        {
          "output_type": "stream",
          "name": "stdout",
          "text": "Enter Number: 2\n<class 'str'>\nEnter Number:                    2\n                   2\n2\nEnter weight(kg): 69\nEnter height(m): 1.75\nYour BMI is 22.53061224489796\nLow Risk\n"
        }
      ]
    },
    {
      "metadata": {
        "trusted": true
      },
      "cell_type": "code",
      "source": "#for loop\nfor i in range(10): #using built in function range(), with 10 as the arguement\n    print(i + 1)",
      "execution_count": 32,
      "outputs": [
        {
          "output_type": "stream",
          "text": "1\n2\n3\n4\n5\n6\n7\n8\n9\n10\n",
          "name": "stdout"
        }
      ]
    },
    {
      "metadata": {
        "trusted": true
      },
      "cell_type": "code",
      "source": "#while loop\ncount = 0 #setting a count\n#printing \"Hello World!\" 10 times\nwhile count < 10: #setting the stop condition to count < 10\n    print(\"Hello World!\")\n    count += 1 #incrementing count by 1-",
      "execution_count": 33,
      "outputs": [
        {
          "output_type": "stream",
          "text": "Hello World!\nHello World!\nHello World!\nHello World!\nHello World!\nHello World!\nHello World!\nHello World!\nHello World!\nHello World!\n",
          "name": "stdout"
        }
      ]
    },
    {
      "metadata": {
        "trusted": true
      },
      "cell_type": "code",
      "source": "#built-in modules\nfrom math import pi\nprint(pi)\n\nimport datetime\nprint(datetime.datetime.today())",
      "execution_count": 1,
      "outputs": [
        {
          "output_type": "stream",
          "text": "3.141592653589793\n2019-05-13 07:08:13.982709\n",
          "name": "stdout"
        }
      ]
    },
    {
      "metadata": {
        "trusted": true
      },
      "cell_type": "code",
      "source": "#SyntaxError\nprint(\"hi\"  #missing close bracket",
      "execution_count": 35,
      "outputs": [
        {
          "output_type": "error",
          "ename": "SyntaxError",
          "evalue": "unexpected EOF while parsing (<ipython-input-35-fcc57198a522>, line 2)",
          "traceback": [
            "\u001b[0;36m  File \u001b[0;32m\"<ipython-input-35-fcc57198a522>\"\u001b[0;36m, line \u001b[0;32m2\u001b[0m\n\u001b[0;31m    print(\"hi\"  #missing close bracket\u001b[0m\n\u001b[0m                                      ^\u001b[0m\n\u001b[0;31mSyntaxError\u001b[0m\u001b[0;31m:\u001b[0m unexpected EOF while parsing\n"
          ]
        }
      ]
    },
    {
      "metadata": {
        "trusted": true
      },
      "cell_type": "code",
      "source": "#TypeError\nprint(\"hi\" + 1) #Wrong type for 1",
      "execution_count": 36,
      "outputs": [
        {
          "output_type": "error",
          "ename": "TypeError",
          "evalue": "must be str, not int",
          "traceback": [
            "\u001b[0;31m---------------------------------------------------------------------------\u001b[0m",
            "\u001b[0;31mTypeError\u001b[0m                                 Traceback (most recent call last)",
            "\u001b[0;32m<ipython-input-36-903175859c50>\u001b[0m in \u001b[0;36m<module>\u001b[0;34m\u001b[0m\n\u001b[1;32m      1\u001b[0m \u001b[0;31m#TypeError\u001b[0m\u001b[0;34m\u001b[0m\u001b[0;34m\u001b[0m\u001b[0m\n\u001b[0;32m----> 2\u001b[0;31m \u001b[0mprint\u001b[0m\u001b[0;34m(\u001b[0m\u001b[0;34m\"hi\"\u001b[0m \u001b[0;34m+\u001b[0m \u001b[0;36m1\u001b[0m\u001b[0;34m)\u001b[0m \u001b[0;31m#Wrong type for 1\u001b[0m\u001b[0;34m\u001b[0m\u001b[0m\n\u001b[0m",
            "\u001b[0;31mTypeError\u001b[0m: must be str, not int"
          ]
        }
      ]
    },
    {
      "metadata": {
        "trusted": true
      },
      "cell_type": "code",
      "source": "#ZeroDivisionError\nprint(2/0) #division by zero",
      "execution_count": 37,
      "outputs": [
        {
          "output_type": "error",
          "ename": "ZeroDivisionError",
          "evalue": "division by zero",
          "traceback": [
            "\u001b[0;31m---------------------------------------------------------------------------\u001b[0m",
            "\u001b[0;31mZeroDivisionError\u001b[0m                         Traceback (most recent call last)",
            "\u001b[0;32m<ipython-input-37-cfc6ccb7f7d5>\u001b[0m in \u001b[0;36m<module>\u001b[0;34m\u001b[0m\n\u001b[1;32m      1\u001b[0m \u001b[0;31m#ZeroDivisionError\u001b[0m\u001b[0;34m\u001b[0m\u001b[0;34m\u001b[0m\u001b[0m\n\u001b[0;32m----> 2\u001b[0;31m \u001b[0mprint\u001b[0m\u001b[0;34m(\u001b[0m\u001b[0;36m2\u001b[0m\u001b[0;34m/\u001b[0m\u001b[0;36m0\u001b[0m\u001b[0;34m)\u001b[0m \u001b[0;31m#division by zero\u001b[0m\u001b[0;34m\u001b[0m\u001b[0m\n\u001b[0m",
            "\u001b[0;31mZeroDivisionError\u001b[0m: division by zero"
          ]
        }
      ]
    },
    {
      "metadata": {
        "trusted": true
      },
      "cell_type": "code",
      "source": "#KeyError\na = {'a': 1}\nprint(a['b']) #tries to locate a key that does not exist in a dictionary",
      "execution_count": 38,
      "outputs": [
        {
          "output_type": "error",
          "ename": "KeyError",
          "evalue": "'b'",
          "traceback": [
            "\u001b[0;31m---------------------------------------------------------------------------\u001b[0m",
            "\u001b[0;31mKeyError\u001b[0m                                  Traceback (most recent call last)",
            "\u001b[0;32m<ipython-input-38-a9722c028765>\u001b[0m in \u001b[0;36m<module>\u001b[0;34m\u001b[0m\n\u001b[1;32m      1\u001b[0m \u001b[0;31m#KeyError\u001b[0m\u001b[0;34m\u001b[0m\u001b[0;34m\u001b[0m\u001b[0m\n\u001b[1;32m      2\u001b[0m \u001b[0ma\u001b[0m \u001b[0;34m=\u001b[0m \u001b[0;34m{\u001b[0m\u001b[0;34m'a'\u001b[0m\u001b[0;34m:\u001b[0m \u001b[0;36m1\u001b[0m\u001b[0;34m}\u001b[0m\u001b[0;34m\u001b[0m\u001b[0m\n\u001b[0;32m----> 3\u001b[0;31m \u001b[0mprint\u001b[0m\u001b[0;34m(\u001b[0m\u001b[0ma\u001b[0m\u001b[0;34m[\u001b[0m\u001b[0;34m'b'\u001b[0m\u001b[0;34m]\u001b[0m\u001b[0;34m)\u001b[0m \u001b[0;31m#tries to locate a key that does not exist in a dictionary\u001b[0m\u001b[0;34m\u001b[0m\u001b[0m\n\u001b[0m",
            "\u001b[0;31mKeyError\u001b[0m: 'b'"
          ]
        }
      ]
    },
    {
      "metadata": {
        "trusted": true
      },
      "cell_type": "code",
      "source": "#ValueError\na = '1a'\nint(a) #tries making a string with an alphabet into a integer",
      "execution_count": 39,
      "outputs": [
        {
          "output_type": "error",
          "ename": "ValueError",
          "evalue": "invalid literal for int() with base 10: '1a'",
          "traceback": [
            "\u001b[0;31m---------------------------------------------------------------------------\u001b[0m",
            "\u001b[0;31mValueError\u001b[0m                                Traceback (most recent call last)",
            "\u001b[0;32m<ipython-input-39-9d748037ff87>\u001b[0m in \u001b[0;36m<module>\u001b[0;34m\u001b[0m\n\u001b[1;32m      1\u001b[0m \u001b[0;31m#ValueError\u001b[0m\u001b[0;34m\u001b[0m\u001b[0;34m\u001b[0m\u001b[0m\n\u001b[1;32m      2\u001b[0m \u001b[0ma\u001b[0m \u001b[0;34m=\u001b[0m \u001b[0;34m'1a'\u001b[0m\u001b[0;34m\u001b[0m\u001b[0m\n\u001b[0;32m----> 3\u001b[0;31m \u001b[0mint\u001b[0m\u001b[0;34m(\u001b[0m\u001b[0ma\u001b[0m\u001b[0;34m)\u001b[0m \u001b[0;31m#tries making a string with an alphabet into a integer\u001b[0m\u001b[0;34m\u001b[0m\u001b[0m\n\u001b[0m",
            "\u001b[0;31mValueError\u001b[0m: invalid literal for int() with base 10: '1a'"
          ]
        }
      ]
    },
    {
      "metadata": {
        "trusted": true
      },
      "cell_type": "code",
      "source": "#Last Big Problem\ndef Trans(list, org_bal):\n    if list[0] == \"D\":\n        org_bal += int(list[1])\n        print(\"Your current balance is: {}\".format(org_bal))\n    else:\n        org_bal -= int(list[1])\n        print(\"Your current balance is: {}\".format(org_bal))\n    return org_bal\n\n\ntransactions = int(input().strip())\norg_bal = int(input().strip())\nprint(\"Your balance is: {}\".format(org_bal))\n\nfor i in range(transactions):\n    \n    one_trans = input().strip()\n    steps = one_trans.split()\n    org_bal = trans(steps, org_bal)\n    \nprint(\"Your final balance is: {}\".format(org_bal))",
      "execution_count": 5,
      "outputs": [
        {
          "output_type": "stream",
          "name": "stdout",
          "text": "3\n100\nYour balance is: 100\nD 20\nYour current balance is: 120\nT 50\nYour current balance is: 70\nT 60\nYour current balance is: 10\nYour final balance is: 10\n"
        }
      ]
    },
    {
      "metadata": {
        "trusted": true
      },
      "cell_type": "code",
      "source": "",
      "execution_count": null,
      "outputs": []
    }
  ],
  "metadata": {
    "kernelspec": {
      "name": "python36",
      "display_name": "Python 3.6",
      "language": "python"
    },
    "language_info": {
      "mimetype": "text/x-python",
      "nbconvert_exporter": "python",
      "name": "python",
      "pygments_lexer": "ipython3",
      "version": "3.6.6",
      "file_extension": ".py",
      "codemirror_mode": {
        "version": 3,
        "name": "ipython"
      }
    }
  },
  "nbformat": 4,
  "nbformat_minor": 2
}