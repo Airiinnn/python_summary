{
  "cells": [
    {
      "metadata": {
        "trusted": true
      },
      "cell_type": "code",
      "source": "import sqlite3\n\nconn = sqlite3.connect('Bad_Data.db')\n\nc = conn.cursor()",
      "execution_count": null,
      "outputs": []
    },
    {
      "metadata": {
        "trusted": true
      },
      "cell_type": "code",
      "source": "data = c.execute(\"SELECT Item_1, Quantity_1, Unit_Price_1, Item_2, Quantity_2, Unit_Price_2, Item_3, Quantity_3, Unit_Price_3 FROM Original_Data WHERE Customer_Name = 'Jon' AND Day = '1';\")\ndata = data.fetchone()\n\nITEM = []\nQUANTITY = []\nPRICE = []\n\nfor i in range(0, len(data), 3):\n    if data[i] != None:\n        ITEM.append(data[i])\n        QUANTITY.append(data[i+1])\n        PRICE.append(data[i+2])\n    else:\n        pass\n    \nSUM = 0\n    \nfor i in range(len(ITEM)):\n    \n    print(\"Item name: \" + str(ITEM[i]))\n    print(\"Quantity: \" + str(QUANTITY[i]))\n    print(\"Unit Price: \" + str(PRICE[i]))\n    \n    SUM = SUM + QUANTITY[i] * PRICE[i]\n    \nprint(SUM)\n\n",
      "execution_count": null,
      "outputs": []
    },
    {
      "metadata": {
        "trusted": true
      },
      "cell_type": "code",
      "source": "DATA = [\"3\", \"Peter\", \"Banana\", 1, \"0.2\"]\n\nc.execute(\"INSERT INTO Original_Data (Day, Customer_Name, Item_1, Quantity_1, Unit_Price_1) VALUES (?,?,?,?,?)\", DATA)\n\nconn.commit()",
      "execution_count": null,
      "outputs": []
    },
    {
      "metadata": {
        "trusted": true
      },
      "cell_type": "code",
      "source": "import sqlite3\n\nconn = sqlite3.connect('Store_Database.db')\n\nc = conn.cursor()",
      "execution_count": 1,
      "outputs": []
    },
    {
      "metadata": {
        "trusted": true,
        "scrolled": true
      },
      "cell_type": "code",
      "source": "def view_purchase(CUSTOMER_NAME, DAY):\n    \n    CUSTOMER_ID = c.execute(\"SELECT Customer_ID FROM Customer_Detail WHERE Name = ?;\", (CUSTOMER_NAME, ))\n    CUSTOMER_ID = CUSTOMER_ID.fetchone()\n    CUSTOMER_ID = CUSTOMER_ID[0]\n    \n    DETAIL = c.execute(\"SELECT Product_ID, Quantity FROM Order_Record WHERE Customer_ID = ? AND Day = ?;\", (CUSTOMER_ID, DAY))\n    DETAIL = DETAIL.fetchall()\n    \n    P_ID = []\n    QUANTITY = []\n    \n    for i in range(len(DETAIL)):\n        P_ID.append(DETAIL[i][0])\n        QUANTITY.append(DETAIL[i][1])\n        \n    P_NAME = []\n    PRICE = []\n    \n    for i in range(len(P_ID)):\n        DATA = c.execute(\"SELECT Product_Name, Price FROM Product_Info WHERE Product_ID = ?\", (P_ID[i], ))\n        DATA = DATA.fetchone()\n        \n        P_NAME.append(DATA[0])\n        PRICE.append(DATA[1])\n        \n    for i in range(len(P_NAME)):\n        print(\"Item name: \" + str(P_NAME[i]))\n        print(\"Quantity: \" + str(QUANTITY[i]))\n        print(\"Unit Price: \" + str(PRICE[i]))\n        \n    SUM = 0\n        \n    for i in range(len(P_NAME)):\n        SUM = SUM + QUANTITY[i] * PRICE[i]\n    \n    print(SUM)\n    \nview_purchase('Steve', '1')",
      "execution_count": 6,
      "outputs": [
        {
          "output_type": "stream",
          "text": "Item name: Apple\nQuantity: 5\nUnit Price: 0.3\nItem name: Durian\nQuantity: 2\nUnit Price: 10.0\nItem name: Banana\nQuantity: 1\nUnit Price: 0.2\nItem name: Cucumber\nQuantity: 5\nUnit Price: 0.5\n24.2\n",
          "name": "stdout"
        }
      ]
    },
    {
      "metadata": {
        "trusted": true
      },
      "cell_type": "code",
      "source": "def new_customer(C_NAME):\n    c.execute(\"INSERT INTO Customer_Detail (Name) VALUES (?)\", (C_NAME, ))\n    \ndef new_item(P_NAME):\n    PRICE = input(\"Enter Price of product: \")\n    c.execute(\"INSERT INTO Product_Info (Product_Name, Price) VALUES (?,?)\", (P_NAME, PRICE, ))\n    \ndef new_order(DAY, C_NAME, QUANTITY, P_NAME):\n    CUSTOMER_ID = c.execute(\"SELECT Customer_ID FROM Customer_Detail WHERE Name = ?;\", (C_NAME, ))\n    CUSTOMER_ID = CUSTOMER_ID.fetchone()\n    CUSTOMER_ID = CUSTOMER_ID[0]\n    \n    PRODUCT_ID = c.execute(\"SELECT Product_ID FROM Product_Info WHERE Product_Name = ?;\", (P_NAME, ))\n    PRODUCT_ID = PRODUCT_ID.fetchone()\n    PRODUCT_ID = PRODUCT_ID[0]\n    \n    c.execute(\"INSERT INTO Order_Record (Day, Customer_ID, Product_ID, Quantity) VALUES (?,?,?,?)\", (DAY, CUSTOMER_ID, PRODUCT_ID, QUANTITY))\n\ndef new_record(DAY, C_NAME, QUANTITY, P_NAME):\n    count = c.execute(\"SELECT count(*) FROM Customer_Detail WHERE Name = ?;\", (C_NAME, ))\n    count = count.fetchone()\n    count = count[0]\n    \n    print(count)\n    \n    if count == 0:\n        new_customer(C_NAME)\n        \n    count = c.execute(\"SELECT count(*) FROM Product_Info WHERE Product_Name = ?;\", (P_NAME, ))\n    count = count.fetchone()\n    count = count[0]\n    \n    print(count)\n    \n    if count == 0:\n        new_item(P_NAME)\n        \n    new_order(DAY, C_NAME, QUANTITY, P_NAME)\n                      \n    conn.commit()\n                      \nnew_record('1', 'Steve', 5, 'Cucumber')",
      "execution_count": 4,
      "outputs": [
        {
          "output_type": "stream",
          "text": "1\n1\n",
          "name": "stdout"
        }
      ]
    },
    {
      "metadata": {
        "trusted": true
      },
      "cell_type": "code",
      "source": "c.execute(\"DELETE FROM Order_Record WHERE Customer_ID = ? AND Day = ?\", ('1', '1'))\n\nconn.commit()\n\nprint(\"Delete successful\")",
      "execution_count": 10,
      "outputs": [
        {
          "output_type": "stream",
          "text": "Delete successful\n",
          "name": "stdout"
        }
      ]
    }
  ],
  "metadata": {
    "kernelspec": {
      "name": "python36",
      "display_name": "Python 3.6",
      "language": "python"
    },
    "language_info": {
      "mimetype": "text/x-python",
      "nbconvert_exporter": "python",
      "name": "python",
      "pygments_lexer": "ipython3",
      "version": "3.6.6",
      "file_extension": ".py",
      "codemirror_mode": {
        "version": 3,
        "name": "ipython"
      }
    }
  },
  "nbformat": 4,
  "nbformat_minor": 2
}