{
  "cells": [
    {
      "metadata": {
        "trusted": true
      },
      "cell_type": "code",
      "source": "import sqlite3\n\nconn = sqlite3.connect('Bad_Data.db')\n\nc = conn.cursor()",
      "execution_count": 31,
      "outputs": []
    },
    {
      "metadata": {
        "trusted": true
      },
      "cell_type": "code",
      "source": "data = c.execute(\"SELECT Item_1, Quantity_1, Unit_Price_1, Item_2, Quantity_2, Unit_Price_2, Item_3, Quantity_3, Unit_Price_3 FROM Original_Data WHERE Customer_Name = 'Jon' AND Day = '1';\")\ndata = data.fetchone()\n\nP_NAME = []\nQUANTITY = []\nPRICE = []\n\nfor i in range(0, len(data), 3):\n    P_NAME.append(data[i])\n    QUANTITY.append(data[i+1])\n    PRICE.append(data[i+2])\n    \nSUM = 0\n    \nfor i in range(len(P_NAME)):\n    if P_NAME[i] != None:\n        \n        print(\"Item name: \" + str(P_NAME[i]))\n        print(\"Quantity: \" + str(QUANTITY[i]))\n        print(\"Unit Price: \" + str(PRICE[i]))\n        \n        SUM = SUM + QUANTITY[i] * PRICE[i]\n        \nprint()\nprint(\"Total Spent: \" + str(SUM))",
      "execution_count": 32,
      "outputs": [
        {
          "output_type": "stream",
          "text": "Item name: Banana\nQuantity: 4\nUnit Price: 0.2\nItem name: Cucumber\nQuantity: 2\nUnit Price: 0.5\n\nTotal Spent: 1.8\n",
          "name": "stdout"
        }
      ]
    },
    {
      "metadata": {
        "trusted": true
      },
      "cell_type": "code",
      "source": "arr = [\"Peter\", \"3\", \"Banana\", 1, 0.2]\n\nc.execute(\"INSERT INTO Original_Data (Customer_Name, Day, Item_1, Quantity_1, Unit_Price_1) VALUES (?,?,?,?,?);\", arr)\n\nconn.commit()",
      "execution_count": 18,
      "outputs": []
    },
    {
      "metadata": {
        "trusted": true
      },
      "cell_type": "code",
      "source": "conn = sqlite3.connect(\"Store_Database.db\")\n\nc = conn.cursor()",
      "execution_count": 33,
      "outputs": []
    },
    {
      "metadata": {
        "trusted": true
      },
      "cell_type": "code",
      "source": "def view_purchase(CUSTOMER_NAME, DAY):\n    CUSTOMER_ID = c.execute(\"SELECT Customer_ID FROM Customer_Detail WHERE Name = ?\", (CUSTOMER_NAME, ))\n    CUSTOMER_ID = CUSTOMER_ID.fetchone()\n    CUSTOMER_ID = CUSTOMER_ID[0]\n    \n    RECORD = c.execute(\"SELECT Product_ID, Quantity FROM Order_Record WHERE Customer_ID = ?\", (CUSTOMER_ID, ))\n    RECORD = RECORD.fetchall()\n    \n    P_ID = []\n    QUANTITY = []\n    \n    for i in range(len(RECORD)):\n        P_ID.append(RECORD[i][0])\n        QUANTITY.append(RECORD[i][1])\n        \n    P_NAME = []\n    PRICE = []\n    \n    for i in range(len(P_ID)):\n        P_DETAIL = c.execute(\"SELECT Product_Name, Price FROM Product_Info WHERE Product_ID = ?;\", (P_ID[i], ))\n        P_DETAIL = P_DETAIL.fetchone()\n        \n        P_NAME.append(P_DETAIL[0])\n        PRICE.append(P_DETAIL[1])\n        \n    SUM = 0\n    \n    for i in range(len(P_NAME)):\n        \n        print(\"Item name: \" + str(P_NAME[i]))\n        print(\"Quantity: \" + str(QUANTITY[i]))\n        print(\"Unit Price: \" + str(PRICE[i]))\n        \n        SUM = SUM + QUANTITY[i] * PRICE[i]\n    \n    print()\n    print(\"Total Spent: \" + str(SUM))\n\nview_purchase('Jon', '1')",
      "execution_count": 41,
      "outputs": [
        {
          "output_type": "stream",
          "text": "Item name: Banana\nQuantity: 4\nUnit Price: 0.2\nItem name: Cucumber\nQuantity: 2\nUnit Price: 0.5\n\nTotal Spent: 1.8\n",
          "name": "stdout"
        }
      ]
    },
    {
      "metadata": {
        "trusted": true
      },
      "cell_type": "code",
      "source": "def new_customer(C_NAME):\n    c.execute(\"INSERT INTO Customer_Detail (Name) VALUES (?);\", (C_NAME, ))\n    \ndef new_item(P_NAME):\n    PRICE = input(\"Enter price of item: \")\n    c.execute(\"INSERT INTO Product_Info (Product_Name, Price) VALUES (?,?);\", (P_NAME, PRICE, ))\n\ndef new_order(DAY, C_NAME, QUANTITY, P_NAME):\n    count = c.execute(\"SELECT count(*) FROM Customer_Detail WHERE Name = ?;\", (C_NAME, ))\n    count = count.fetchone()\n    count = count[0]\n    \n    if count == 0:\n        new_customer(C_NAME)\n    \n    count = c.execute(\"SELECT count(*) FROM Product_Info WHERE Product_Name = ?;\", (P_NAME, ))\n    count = count.fetchone()\n    count = count[0]\n    \n    if count == 0:\n        new_item(P_NAME)\n        \n    CUSTOMER_ID = c.execute(\"SELECT Customer_ID FROM Customer_Detail WHERE Name = ?\", (C_NAME, ))\n    CUSTOMER_ID = CUSTOMER_ID.fetchone()\n    CUSTOMER_ID = CUSTOMER_ID[0]\n    \n    PRODUCT_ID = c.execute(\"SELECT Product_ID FROM Product_Info WHERE Product_Name = ?\", (P_NAME, ))\n    PRODUCT_ID = PRODUCT_ID.fetchone()\n    PRODUCT_ID = PRODUCT_ID[0]\n        \n    c.execute(\"INSERT INTO Order_Record(Product_ID, Quantity, Customer_ID, Day) VALUES (?,?,?,?);\", (PRODUCT_ID, QUANTITY, CUSTOMER_ID, DAY, ))\n    \n    conn.commit()\n    \n    print(\"Recorded Successfully\")\n    \nnew_order(\"1\", 'Peter', 10, \"Tomatoes\")",
      "execution_count": 47,
      "outputs": [
        {
          "output_type": "stream",
          "name": "stdout",
          "text": "Enter price of item: 1\nRecorded Successfully\n"
        }
      ]
    }
  ],
  "metadata": {
    "kernelspec": {
      "name": "python36",
      "display_name": "Python 3.6",
      "language": "python"
    },
    "language_info": {
      "mimetype": "text/x-python",
      "nbconvert_exporter": "python",
      "name": "python",
      "pygments_lexer": "ipython3",
      "version": "3.6.6",
      "file_extension": ".py",
      "codemirror_mode": {
        "version": 3,
        "name": "ipython"
      }
    }
  },
  "nbformat": 4,
  "nbformat_minor": 2
}