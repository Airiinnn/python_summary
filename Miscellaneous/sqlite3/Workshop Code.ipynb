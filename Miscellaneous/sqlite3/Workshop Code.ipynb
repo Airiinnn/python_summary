{
  "cells": [
    {
      "metadata": {},
      "cell_type": "markdown",
      "source": "Start with importing the SQLite3 library and connect to the database.\n\nYou do not necessarily have to have to add the .db extension but it is good practice to denote that it is a database file.\n\nAfter creating the connection you need to create a \"mouse\" that will carry out your commands."
    },
    {
      "metadata": {
        "trusted": true
      },
      "cell_type": "code",
      "source": "import sqlite3\n\nconn = sqlite3.connect('Bad_Data.db')\n\nc = conn.cursor()",
      "execution_count": null,
      "outputs": []
    },
    {
      "metadata": {},
      "cell_type": "markdown",
      "source": "Now we can take a look at the database.\n\nhttps://docs.google.com/spreadsheets/d/1YUe668NntxiGrT34o2klO8jyymeq3k3TWoUKJtFcUQM/edit?usp=sharing\n\nThe \"Bad_Data\" database only contains the \"Original_Data\" table and has a lot of formatting issues that we will explore."
    },
    {
      "metadata": {},
      "cell_type": "markdown",
      "source": "### Scenario 1\n\nA store manager wants to see what Jon bought on Day 1 as well as how much Jon spent in total on Day 1."
    },
    {
      "metadata": {
        "trusted": true
      },
      "cell_type": "code",
      "source": "REQUEST = [\"Jon\", \"1\"]\n\ndata = c.execute(\"SELECT Item_1, Quantity_1, Unit_Price_1, Item_2, Quantity_2, Unit_Price_2, Item_3, Quantity_3, Unit_Price_3 FROM Original_Data WHERE Customer_Name = ? AND Day = ?;\", REQUEST)\n\ndata = data.fetchone()\n\nITEM = []\nQUANTITY = []\nUNIT_PRICE = []\n\nfor i in range(0, len(data), 3):\n    ITEM.append(data[i])\n    QUANTITY.append(data[i+1])\n    UNIT_PRICE.append(data[i+2])\n    \nSUM = 0\n\nfor i in range(len(ITEM)):\n    \n    if ITEM[i] != None:\n    \n        SUM = SUM + QUANTITY[i] * UNIT_PRICE[i]\n\n        print(\"Item name: \" + str(ITEM[i]))\n        print(\"Quantity: \" + str(QUANTITY[i]))\n        print(\"Unit Price: \" + str(UNIT_PRICE[i]))\n\nprint()\nprint(\"Total Spent: \" + str(SUM))",
      "execution_count": null,
      "outputs": []
    },
    {
      "metadata": {},
      "cell_type": "markdown",
      "source": "### Scenario 2\n\nOn day 3, Peter comes to the store and buys 1 Banana.\n\nLet's record this in the database"
    },
    {
      "metadata": {
        "trusted": true
      },
      "cell_type": "code",
      "source": "DATA = [\"3\", \"Peter\", \"Banana\", 1, \"0.2\"]\n\nc.execute(\"INSERT INTO Original_Data(Day, Customer_Name, Item_1, Quantity_1, Unit_Price_1) VALUES (?,?,?,?,?)\", DATA)\n\nconn.commit()",
      "execution_count": null,
      "outputs": []
    },
    {
      "metadata": {},
      "cell_type": "markdown",
      "source": "### Scenario 3\n\nSteve realised that he forgot to pay for a cucumber he bought on Day 1. He returns to the store to pay more it and now we need to update the database.\n\nExcept that we can't because our database is not designed to handle more than 3 items bought per day."
    },
    {
      "metadata": {},
      "cell_type": "markdown",
      "source": "# Normalisation\n\nUsed to reduce data redundancy and increase data integrity\n\nThere are many steps to normalising a database which each step fulfilling specific conditions/goals.\n\nNormalisation is a trade off so the level of normalisation required varies from case to case."
    },
    {
      "metadata": {},
      "cell_type": "markdown",
      "source": "Now we will change our connection to \"Store_Database.db\"\n\nThe database contain the tables \"Order_Record\", \"Customer_Detail\" and \"Product_Info\""
    },
    {
      "metadata": {
        "trusted": true
      },
      "cell_type": "code",
      "source": "import sqlite3\n\nconn = sqlite3.connect('Store_Database.db')\n\nc = conn.cursor()",
      "execution_count": null,
      "outputs": []
    },
    {
      "metadata": {},
      "cell_type": "markdown",
      "source": "Let's attempt the same 3 scenarios as before.\n\nThis time, we will be writing functions instead of one off commands."
    },
    {
      "metadata": {},
      "cell_type": "markdown",
      "source": "### Scenario 4\n\nA store manager wants to see what (a customer) bought on (a day).\n\nHe also wants to see how much the customer spent in total on the day."
    },
    {
      "metadata": {
        "trusted": true
      },
      "cell_type": "code",
      "source": "def view_purchase(Customer_Name, Day):\n    Customer_ID = c.execute(\"SELECT Customer_ID FROM Customer_Detail WHERE Name = ?\", (Customer_Name,))\n    Customer_ID = Customer_ID.fetchone()\n    Customer_ID = Customer_ID[0]\n    \n    data = c.execute(\"SELECT Product_ID, Quantity FROM Order_Record WHERE Customer_ID = ? AND Day = ?;\", (Customer_ID, Day))\n    data = data.fetchall()\n    \n    PRODUCT_IDs = []\n    QUANTITIES = []\n    \n    for i in range(len(data)):\n        PRODUCT_IDs.append(data[i][0])\n        QUANTITIES.append(data[i][1])\n        \n    print()\n    \n    ITEM_NAMES = []\n    ITEM_PRICES = []\n    \n    for i in range(len(PRODUCT_IDs)):\n        data = c.execute(\"SELECT Product_Name, Price FROM Product_Info WHERE Product_ID = ?;\", (PRODUCT_IDs[i],))\n        data = data.fetchone()\n        \n        ITEM_NAMES.append(data[0])\n        ITEM_PRICES.append(data[1])\n        \n    SUM = 0\n\n    for i in range(len(ITEM_NAMES)):\n\n        SUM = SUM + (QUANTITIES[i] * ITEM_PRICES[i])\n\n        print(\"Item name: \" + str(ITEM_NAMES[i]))\n        print(\"Quantity: \" + str(QUANTITIES[i]))\n        print(\"Unit Price: \" + str(ITEM_PRICES[i]))\n\n    print()\n    print(\"Total Spent: \" + str(SUM))",
      "execution_count": null,
      "outputs": []
    },
    {
      "metadata": {},
      "cell_type": "markdown",
      "source": "### Scenario 5\n\n(Someone) realised that he/she forgot to pay for (an item/some items) he/she bought (one day). He/she returns to the store to pay for it and now we need to update the database."
    },
    {
      "metadata": {
        "trusted": true
      },
      "cell_type": "markdown",
      "source": "### Scenario 6\n\nOn (a day), (a person) comes to the store and buys (a number) of (items).\n\nLet's record this in the database"
    },
    {
      "metadata": {
        "trusted": true
      },
      "cell_type": "code",
      "source": "def new_user(NAME):\n    c.execute(\"INSERT INTO Customer_Detail (Name) VALUES (?)\", (NAME,))\n    \ndef new_item(ITEM):\n    PRICE = input(\"New item, please enter price: $\")\n    c.execute(\"INSERT INTO Product_Info (Product_Name, Price) VALUES (?,?)\", (ITEM, PRICE,))\n\ndef new_order(NAME, DAY, QUANTITY, ITEM):\n    CUSTOMER_ID = c.execute(\"SELECT Customer_ID FROM Customer_Detail WHERE Name = ?\", (NAME,))\n    CUSTOMER_ID = CUSTOMER_ID.fetchone()\n    CUSTOMER_ID = CUSTOMER_ID[0]\n    \n    PRODUCT_ID = c.execute(\"SELECT Product_ID FROM Product_Info WHERE Product_Name = ?\", (ITEM,))\n    PRODUCT_ID = PRODUCT_ID.fetchone()\n    PRODUCT_ID = PRODUCT_ID[0]\n    \n    c.execute(\"INSERT INTO Order_Record (Product_ID, Quantity, Customer_ID, Day) VALUES (?,?,?,?)\", (PRODUCT_ID, QUANTITY, CUSTOMER_ID, DAY,))\n\ndef new_record(NAME, DAY, QUANTITY, ITEM):\n    exist = c.execute(\"SELECT count(*) FROM Customer_Detail WHERE Name = ?\", (NAME,))\n    exist = exist.fetchone()\n    \n    if exist[0] == 0:\n        new_user(NAME)\n    else:\n        pass\n    \n    exist = c.execute(\"SELECT count(*) FROM Product_Info WHERE Product_Name = ?\", (ITEM,))\n    exist = exist.fetchone()\n    \n    if exist[0] == 0:\n        new_item(ITEM)\n    else:\n        pass\n    \n    new_order(NAME, DAY, QUANTITY, ITEM)\n    \n    conn.commit()",
      "execution_count": null,
      "outputs": []
    }
  ],
  "metadata": {
    "kernelspec": {
      "name": "python36",
      "display_name": "Python 3.6",
      "language": "python"
    },
    "language_info": {
      "mimetype": "text/x-python",
      "nbconvert_exporter": "python",
      "name": "python",
      "pygments_lexer": "ipython3",
      "version": "3.6.6",
      "file_extension": ".py",
      "codemirror_mode": {
        "version": 3,
        "name": "ipython"
      }
    }
  },
  "nbformat": 4,
  "nbformat_minor": 2
}